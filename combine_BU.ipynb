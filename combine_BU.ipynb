{
 "cells": [
  {
   "cell_type": "markdown",
   "id": "f30efc0a-4645-49a5-80b8-1e20741f6935",
   "metadata": {},
   "source": [
    "# Import potrebných knižníc"
   ]
  },
  {
   "cell_type": "code",
   "execution_count": null,
   "id": "96f0cc73-96d4-484e-837b-08c00d429178",
   "metadata": {},
   "outputs": [],
   "source": [
    "import os\n",
    "from datetime import datetime\n",
    "from PIL import Image\n",
    "import numpy as np"
   ]
  },
  {
   "cell_type": "markdown",
   "id": "e35a54e0-088f-4063-b44b-8299b3a39379",
   "metadata": {},
   "source": [
    "# Spájanie obrázkov BU"
   ]
  },
  {
   "cell_type": "markdown",
   "id": "c0cd464e-5e9f-4670-8168-0d1525095790",
   "metadata": {},
   "source": [
    "Spájanie obrázkov prebieha na intervale 30 minút\n",
    "\n",
    "Tento krok je vykonávaný pretože k jednému snímku GOLD by pripadalo viacero snímok BU\n",
    "\n",
    "Po konzultácii sme sa rozhodli snímky spájať"
   ]
  },
  {
   "cell_type": "code",
   "execution_count": null,
   "id": "f0a6cb7f-df43-4513-b194-02c480685735",
   "metadata": {},
   "outputs": [],
   "source": [
    "#vytvorenie potrebných priečinkov\n",
    "input_folder = \"BU_mercedes_stars\"\n",
    "output_folder = \"BU_mercedes_combined\"\n",
    "\n",
    "os.makedirs(output_folder, exist_ok=True)\n",
    "\n",
    "#funkcia na získanie timestampu\n",
    "def parse_timestamp(filename):\n",
    "    parts = filename.split(\"_\")\n",
    "    timestamp = parts[:6]\n",
    "    return datetime(*map(int, timestamp))"
   ]
  },
  {
   "cell_type": "code",
   "execution_count": null,
   "id": "0d47a6dc-fef5-420f-ad35-cee383da0d73",
   "metadata": {},
   "outputs": [],
   "source": [
    "image_groups = {}\n",
    "#iterácia pre každý obrázok\n",
    "for filename in os.listdir(input_folder):\n",
    "    if filename.endswith(\".png\"):\n",
    "        #získanie časových údajov\n",
    "        timestamp = parse_timestamp(filename)\n",
    "        minute = timestamp.minute\n",
    "        #roztriedenie na pol hodinové intervalové skupiny\n",
    "        half_hour_segment = '00' if minute < 30 else '30'\n",
    "        hour_key = timestamp.strftime(f\"%Y_%m_%d_%H_{half_hour_segment}\")\n",
    "        if hour_key not in image_groups:\n",
    "            image_groups[hour_key] = []\n",
    "        image_groups[hour_key].append(os.path.join(input_folder, filename))\n",
    "\n",
    "#pre každú skpinu a všetky snímky v nej\n",
    "for hour_key, filenames in image_groups.items():\n",
    "    images = [Image.open(filename).convert(\"RGB\") for filename in filenames]\n",
    "    #rozmery obrázkov\n",
    "    width, height = images[0].size\n",
    "    combined_image = np.zeros((height, width, 3), dtype=np.float32)\n",
    "    #každí obrázok prevedený na array a pridaný do jedného\n",
    "    for img in images:\n",
    "        img_array = np.array(img, dtype=np.float32)\n",
    "        combined_image += img_array / len(images)\n",
    "    #vytvorenie spojeného snímku\n",
    "    combined_image = np.clip(combined_image, 0, 255).astype(np.uint8)\n",
    "    combined_image = Image.fromarray(combined_image)\n",
    "\n",
    "    combined_image.save(os.path.join(output_folder, hour_key + \"_mercedes.png\"))"
   ]
  },
  {
   "cell_type": "code",
   "execution_count": null,
   "id": "98a4a5bd-678e-426a-9e1a-32c87eed6a79",
   "metadata": {},
   "outputs": [],
   "source": []
  }
 ],
 "metadata": {
  "kernelspec": {
   "display_name": "Python 3 (ipykernel)",
   "language": "python",
   "name": "python3"
  },
  "language_info": {
   "codemirror_mode": {
    "name": "ipython",
    "version": 3
   },
   "file_extension": ".py",
   "mimetype": "text/x-python",
   "name": "python",
   "nbconvert_exporter": "python",
   "pygments_lexer": "ipython3",
   "version": "3.10.6"
  }
 },
 "nbformat": 4,
 "nbformat_minor": 5
}
