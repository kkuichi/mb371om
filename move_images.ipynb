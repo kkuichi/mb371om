{
 "cells": [
  {
   "cell_type": "markdown",
   "id": "da0ede9d-4964-4dca-b66c-88ecf5af9f9e",
   "metadata": {},
   "source": [
    "# Import potrebných knižníc"
   ]
  },
  {
   "cell_type": "code",
   "execution_count": null,
   "id": "2ef0e69a-bb43-406c-a40a-7921954e7c2b",
   "metadata": {},
   "outputs": [],
   "source": [
    "import os\n",
    "import shutil\n",
    "import random"
   ]
  },
  {
   "cell_type": "markdown",
   "id": "11bbb3bb-ccb3-475d-b7ad-d187bd835d8f",
   "metadata": {},
   "source": [
    "# Presun obrázkov do modelu Pix2Pix"
   ]
  },
  {
   "cell_type": "markdown",
   "id": "af1bb8e4-7a58-41a6-a57a-bf9ec1641beb",
   "metadata": {},
   "source": [
    "V modeli Pix2Pix sme vytvorili priečinok Airglow pre naše dáta, obshoval podpriečinky test a train\n",
    "\n",
    "V týchto podpriečinkoch sa nachádzajú priečinky A a B\n",
    "\n",
    "Potrebovali sme nakopírovať totožné snímky podľa názvu do týchto priečinkov\n",
    "\n",
    "b - BU data      a - GOLD dáta"
   ]
  },
  {
   "cell_type": "code",
   "execution_count": 15,
   "id": "1f732821-0384-4f62-a128-1ac02c37f395",
   "metadata": {},
   "outputs": [],
   "source": [
    "#definícia funkcie pre presun\n",
    "def copy_matching_images(folder_a, folder_b, folder_c, folder_d):\n",
    "    #vytvorenie zoznamov obrázkov z priečinkov BU a GOLD\n",
    "    images_a = [image for image in os.listdir(folder_a) if image.endswith('.png')]\n",
    "\n",
    "    images_b = [image for image in os.listdir(folder_b) if image.endswith('.png')]\n",
    "\n",
    "    images_dict_a = {image.split('.')[0]: image for image in images_a}\n",
    "    images_dict_b = {image.split('.')[0]: image for image in images_b}\n",
    "    #v prípade že súbor s rovnakým menom je v BU aj GOLD presuň oboje do B a A\n",
    "    for image_name, image_file in images_dict_a.items():\n",
    "        if image_name in images_dict_b:\n",
    "            #prekopírovanie obrázkov\n",
    "            shutil.copy(os.path.join(folder_a, image_file), os.path.join(folder_c, image_file))\n",
    "            shutil.copy(os.path.join(folder_b, images_dict_b[image_name]), os.path.join(folder_d, images_dict_b[image_name]))\n",
    "\n",
    "#definovanie premenných\n",
    "folder_a = 'BU_rio_grande_combined'\n",
    "folder_b = 'GOLD_rio_grande_combined'\n",
    "folder_c = 'pix2pix/dataset/airglow_2/train/b'\n",
    "folder_d = 'pix2pix/dataset/airglow_2/train/a'\n",
    "\n",
    "#vytvorenie priečinkov v modeli Pix2Pix\n",
    "os.makedirs(folder_c, exist_ok=True)\n",
    "os.makedirs(folder_d, exist_ok=True)\n",
    "\n",
    "copy_matching_images(folder_a, folder_b, folder_c, folder_d)"
   ]
  },
  {
   "cell_type": "markdown",
   "id": "50ff72b4-4595-43be-905d-c03ffba32ee9",
   "metadata": {},
   "source": [
    "Následne sme presúvali 20% obrázkov do priečinkov na testovanie"
   ]
  },
  {
   "cell_type": "code",
   "execution_count": 18,
   "id": "05adc6cf-e20c-4e16-ada8-d0f645dfb987",
   "metadata": {},
   "outputs": [],
   "source": [
    "#Náhodný presun snímkov do testovacej časti\n",
    "#presun len zo súboru B\n",
    "def move_random_files(source_folder, destination_folder, percentage):\n",
    "    all_files = os.listdir(source_folder)\n",
    "    #definovanie počtu súborov\n",
    "    num_files_to_move = int(len(all_files) * percentage)\n",
    "    #výber náhodných obrázkov\n",
    "    files_to_move = random.sample(all_files, num_files_to_move)\n",
    "    #presun obrázkov\n",
    "    for file_name in files_to_move:\n",
    "        source_file = os.path.join(source_folder, file_name)\n",
    "        destination_file = os.path.join(destination_folder, file_name)\n",
    "        shutil.move(source_file, destination_file)\n",
    "\n",
    "source_folder = 'pix2pix/dataset/airglow_2/train/b'\n",
    "destination_folder = 'pix2pix/dataset/airglow_2/test/b'\n",
    "#výber 20%\n",
    "percentage = 0.2\n",
    "\n",
    "move_random_files(source_folder, destination_folder, percentage)"
   ]
  },
  {
   "cell_type": "code",
   "execution_count": 19,
   "id": "f0d6a41f-1fb6-4211-9446-dd90c1a9b0b2",
   "metadata": {},
   "outputs": [],
   "source": [
    "#presun zo súboru train A do súboru test A \n",
    "#presúvajú sa iba súbory ktorých názov sa nachádza v test B\n",
    "def move_matching_files(folder_a, folder_b, folder_c):\n",
    "    files_c = os.listdir(folder_c)\n",
    "    #pre každý vhodný obrázok presun\n",
    "    for file_name in files_c:\n",
    "        if os.path.isfile(os.path.join(folder_a, file_name)):\n",
    "            source_file = os.path.join(folder_a, file_name)\n",
    "            destination_file = os.path.join(folder_b, file_name)\n",
    "            shutil.move(source_file, destination_file)\n",
    "\n",
    "#definícia priečinkov\n",
    "folder_a = 'pix2pix/dataset/airglow_2/train/a'\n",
    "folder_b = 'pix2pix/dataset/airglow_2/test/a'\n",
    "folder_c = 'pix2pix/dataset/airglow_2/test/b'\n",
    "\n",
    "move_matching_files(folder_a, folder_b, folder_c)\n"
   ]
  },
  {
   "cell_type": "code",
   "execution_count": null,
   "id": "476f7e37-eb14-4414-83eb-ae1526b1d327",
   "metadata": {},
   "outputs": [],
   "source": []
  }
 ],
 "metadata": {
  "kernelspec": {
   "display_name": "Python 3 (ipykernel)",
   "language": "python",
   "name": "python3"
  },
  "language_info": {
   "codemirror_mode": {
    "name": "ipython",
    "version": 3
   },
   "file_extension": ".py",
   "mimetype": "text/x-python",
   "name": "python",
   "nbconvert_exporter": "python",
   "pygments_lexer": "ipython3",
   "version": "3.10.6"
  }
 },
 "nbformat": 4,
 "nbformat_minor": 5
}
