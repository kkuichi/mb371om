{
 "cells": [
  {
   "cell_type": "markdown",
   "id": "c397f93d-b8af-433e-9094-acf5923af7f3",
   "metadata": {},
   "source": [
    "# Import potrebných knižníc"
   ]
  },
  {
   "cell_type": "code",
   "execution_count": 5,
   "id": "c9bd1ad4-0865-4958-bc19-193a373e11dc",
   "metadata": {},
   "outputs": [],
   "source": [
    "import shutil\n",
    "from PIL import Image, ImageDraw\n",
    "import glob\n",
    "import os"
   ]
  },
  {
   "cell_type": "markdown",
   "id": "d662c96c-d7cc-4a60-bbb1-badfd0fe3a94",
   "metadata": {},
   "source": [
    "# Presunutie obrázkov"
   ]
  },
  {
   "cell_type": "markdown",
   "id": "8f72df4b-63f1-4861-9f07-bb0afcc1d9ef",
   "metadata": {},
   "source": [
    "Pred orezaním obrázkov sme ich presunuli do jedného spoločného súboru za celý rok"
   ]
  },
  {
   "cell_type": "code",
   "execution_count": 13,
   "id": "904e91a9-9140-4480-b1f6-5713dd7bf00d",
   "metadata": {},
   "outputs": [],
   "source": [
    "#vytvorenie všetkých potrebných priečinkov\n",
    "input_dir = 'colombia2021'\n",
    "output_dir = '2021_all'\n",
    "os.makedirs(output_dir, exist_ok=True)\n",
    "os.makedirs(\"2021_crop/2021_all\", exist_ok=True)\n",
    "\n",
    "#kopírovanie všetkých súborov .gif do jedného priečinku pre celý rok\n",
    "for root, dirs, files in os.walk(input_dir):\n",
    "    for file in files:\n",
    "        if file.lower().endswith('.gif'):\n",
    "            input_path = os.path.join(root, file)\n",
    "            output_path = os.path.join(output_dir, file)\n",
    "\n",
    "            shutil.copy(input_path, output_path)"
   ]
  },
  {
   "cell_type": "markdown",
   "id": "2d7b1335-48aa-4b11-8f1b-db679cef2786",
   "metadata": {},
   "source": [
    "# Orezanie snímok BU"
   ]
  },
  {
   "cell_type": "markdown",
   "id": "683bc721-b1eb-4c2d-aa85-c8f5745eacb8",
   "metadata": {},
   "source": [
    "Prvotné odstránenie okrajov snímky ktoré obsahovali údaje o čase a mieste zhotovenia snímky.\n",
    "\n",
    "Takto upravené snímky boli následne určené pre ručnú klasifikáciu."
   ]
  },
  {
   "cell_type": "code",
   "execution_count": null,
   "id": "36ccfca5-c612-49ba-a209-aae114703e0f",
   "metadata": {},
   "outputs": [],
   "source": [
    "#zoznam všetkých súborov .gif\n",
    "files = glob.glob(r'2021_all/*.gif')\n",
    "\n",
    "#iterácia každého súboru\n",
    "for filename in files:\n",
    "    try:\n",
    "        #otvorenie obrázka a získanie veľkosti\n",
    "        img = Image.open(filename)\n",
    "        width, height = img.size\n",
    "        x = (width - height)//2\n",
    "        #orezanie do tvaru štvorca\n",
    "        img_cropped = img.crop((x, 0, x+height, height))\n",
    "        \n",
    "        #vytvorenie masky v tvare kruhu\n",
    "        mask = Image.new('L', img_cropped.size)\n",
    "        mask_draw = ImageDraw.Draw(mask)\n",
    "        width, height = img_cropped.size\n",
    "        mask_draw.ellipse((15, 30, width-35, height-35), fill=255)\n",
    "        #aplikovanie kruhovej masky\n",
    "        img_cropped.putalpha(mask)\n",
    "        img_cropped = img_cropped.convert('RGBA')   \n",
    "        #uloženie do nového priečinku\n",
    "        img_cropped.save(\"2021_crop/\" + os.path.splitext(filename)[0] + \".png\")\n",
    "    #výnimka v prípade poškodeného súboru\n",
    "    except IOError as e:\n",
    "        print(f\"Preskočenie {filename} kvôli {str(e)}\")\n",
    "        continue"
   ]
  },
  {
   "cell_type": "markdown",
   "id": "79345e65-82b1-49b5-a3e5-60caf5bc252f",
   "metadata": {},
   "source": [
    "Sekundárne orezanie snímkov bolo uskutočnené pre trénovanie klasifikačného modelu ako aj ďalšiu prácu"
   ]
  },
  {
   "cell_type": "code",
   "execution_count": null,
   "id": "4bf3d833-f1ac-47be-9dea-52d816db3306",
   "metadata": {},
   "outputs": [],
   "source": [
    "#vytvorenie všetkých potrebných priečinkov\n",
    "input_folder = \"2021_crop/2021_all\"\n",
    "output_folder = \"2021_small/\"\n",
    "if not os.path.exists(output_folder):\n",
    "    os.mkdir(output_folder)\n",
    "else:\n",
    "    for filename in os.listdir(output_folder):\n",
    "        file_path = os.path.join(output_folder, filename)\n",
    "        if os.path.isfile(file_path):\n",
    "            os.unlink(file_path)"
   ]
  },
  {
   "cell_type": "code",
   "execution_count": null,
   "id": "8475e007-1984-4693-b60e-ad4d9a1dd841",
   "metadata": {},
   "outputs": [],
   "source": [
    "#definovanie menšieho kruhu\n",
    "smaller_radius = 150\n",
    "#všetky png obrázky\n",
    "image_files = [f for f in os.listdir(input_folder) if f.endswith(\".png\")]\n",
    "\n",
    "#iterácia pre každý obrázok \n",
    "for filename in image_files:\n",
    "    input_image = Image.open(os.path.join(input_folder, filename))\n",
    "    \n",
    "    #vytvorenie novej kruhovej masky\n",
    "    mask = Image.new(\"L\", input_image.size, 0)\n",
    "    draw = ImageDraw.Draw(mask)\n",
    "    width, height = input_image.size\n",
    "    center = (width // 2, height // 2)\n",
    "    draw.ellipse((center[0] - smaller_radius, center[1] - smaller_radius, center[0] + smaller_radius, center[1] + smaller_radius), fill=255)\n",
    "    \n",
    "    #aplikovanie kruhovej masky\n",
    "    output_image = Image.new(\"RGBA\", input_image.size)\n",
    "    output_image.paste(input_image, mask=mask)\n",
    "\n",
    "    output_filename = os.path.join(output_folder, filename)\n",
    "    output_image.save(output_filename)"
   ]
  }
 ],
 "metadata": {
  "kernelspec": {
   "display_name": "Python 3 (ipykernel)",
   "language": "python",
   "name": "python3"
  },
  "language_info": {
   "codemirror_mode": {
    "name": "ipython",
    "version": 3
   },
   "file_extension": ".py",
   "mimetype": "text/x-python",
   "name": "python",
   "nbconvert_exporter": "python",
   "pygments_lexer": "ipython3",
   "version": "3.10.6"
  }
 },
 "nbformat": 4,
 "nbformat_minor": 5
}
