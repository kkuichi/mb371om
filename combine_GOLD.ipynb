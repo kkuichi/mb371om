{
 "cells": [
  {
   "cell_type": "markdown",
   "id": "ded95bfb-4513-4d99-9ab5-f606385ab95a",
   "metadata": {},
   "source": [
    "# Import potrebných knižníc"
   ]
  },
  {
   "cell_type": "code",
   "execution_count": 3,
   "id": "f4cbb2a3-47d5-426c-8bd9-b0a226f5e29b",
   "metadata": {},
   "outputs": [],
   "source": [
    "import os\n",
    "from datetime import datetime\n",
    "from PIL import Image, ImageDraw\n",
    "import numpy as np"
   ]
  },
  {
   "cell_type": "markdown",
   "id": "c902ad58-6363-4611-b5ff-612031cc616e",
   "metadata": {},
   "source": [
    "# Kombinovanie GOLD dát"
   ]
  },
  {
   "cell_type": "markdown",
   "id": "906ada51-d5c8-4e8e-8fa5-f8df9422e029",
   "metadata": {},
   "source": [
    "V prípade že počas pol hodiny existuje viacero obrázkov GOLD dát\n",
    "\n",
    "Táto sitácia nastáva hlavne pri stanici Arecibo no aplikujeme tento kód na všetky dáta"
   ]
  },
  {
   "cell_type": "code",
   "execution_count": 11,
   "id": "299ce2e9-fe85-4e65-821d-290732ae4ccd",
   "metadata": {},
   "outputs": [],
   "source": [
    "#určenie a vytvorenie priečinkov\n",
    "input_folder = \"GOLD_jicamarca_no_white\"\n",
    "output_folder = \"GOLD_jicamarca_combined\"\n",
    "\n",
    "os.makedirs(output_folder, exist_ok=True)"
   ]
  },
  {
   "cell_type": "code",
   "execution_count": 12,
   "id": "44b1f962-2436-4a79-984c-294f1b65d29a",
   "metadata": {},
   "outputs": [],
   "source": [
    "#definovanie funkcie pre získanie timestampu \n",
    "def parse_timestamp(filename):\n",
    "    parts = filename.split(\"_\")\n",
    "    timestamp = parts[:5]\n",
    "    return datetime(*map(int, timestamp))"
   ]
  },
  {
   "cell_type": "code",
   "execution_count": null,
   "id": "4abd5183-8370-4a65-89cd-7cbcc8933861",
   "metadata": {},
   "outputs": [],
   "source": [
    "image_groups = {}\n",
    "#pre každý obrázok\n",
    "for filename in os.listdir(input_folder):\n",
    "    #kontrola či nie sú v priečinku aj iné súbory\n",
    "    if filename.endswith(\".png\"):\n",
    "        #získanie časových údajov\n",
    "        timestamp = parse_timestamp(filename)\n",
    "        minute = timestamp.minute\n",
    "        #roztriedenie na pol hodinové intervalové skupiny\n",
    "        half_hour_segment = '00' if minute < 30 else '30'\n",
    "        hour_key = timestamp.strftime(f\"%Y_%m_%d_%H_{half_hour_segment}\")\n",
    "        if hour_key not in image_groups:\n",
    "            image_groups[hour_key] = []\n",
    "        image_groups[hour_key].append(os.path.join(input_folder, filename))\n",
    "\n",
    "#pre každú skpinu a všetky snímky v nej\n",
    "for hour_key, filenames in image_groups.items():\n",
    "    images = [Image.open(filename).convert(\"RGB\") for filename in filenames]\n",
    "    #rozmery obrázkov\n",
    "    width, height = images[0].size\n",
    "    combined_image = np.zeros((height, width, 3), dtype=np.float32)\n",
    "    pixel_counts = np.zeros((height, width), dtype=np.int32)\n",
    "    #každí obrázok prevedený na array a pridaný do jedného\n",
    "    for img in images:\n",
    "        #v prípade že sa na snímkovch vyskytuje biela oblasť je táto oblasť ignorovaná pri kombinovaní\n",
    "        img_array = np.array(img, dtype=np.float32)\n",
    "        white_mask = np.all(img_array == [255, 255, 255], axis=-1)\n",
    "        combined_image[~white_mask] += img_array[~white_mask]\n",
    "        pixel_counts += ~white_mask\n",
    "\n",
    "    #vytvorenie kombinovaného obrázka\n",
    "    combined_image /= np.maximum(pixel_counts[:, :, np.newaxis], 1)\n",
    "\n",
    "    combined_image = np.clip(combined_image, 0, 255).astype(np.uint8)\n",
    "    combined_image = Image.fromarray(combined_image)\n",
    "    #uloženie obrázka\n",
    "    combined_image.save(os.path.join(output_folder, hour_key + \"_jicamarca.png\"))\n"
   ]
  },
  {
   "cell_type": "markdown",
   "id": "b16dbd5b-95b2-47c6-85ed-580c1742fdaa",
   "metadata": {},
   "source": [
    "Pri vytváraní kombinovaných obrázkov sme ignorovali biele časti\n",
    "\n",
    "To spôsobilo že v momente kedy nebolo možné ich nahradiť pri kombinácii sú teraz tieto časti čierne\n",
    "\n",
    "Pre také obrázky vrátime bielu farbu"
   ]
  },
  {
   "cell_type": "code",
   "execution_count": 14,
   "id": "3d7d24f0-0c53-409a-a2a6-abbdee28650d",
   "metadata": {},
   "outputs": [],
   "source": [
    "#funkcia pre nahrádzanie čiernych pixelov za biele\n",
    "def replace_black_pixels_with_white(image_path):\n",
    "    img = Image.open(image_path)\n",
    "    #rozmery obrázka\n",
    "    width, height = img.size\n",
    "    #nahrádzanie pixelov\n",
    "    for x in range(width):\n",
    "        for y in range(height):\n",
    "            pixel = img.getpixel((x, y))\n",
    "\n",
    "            if pixel == (0, 0, 0) or pixel == (0, 0, 0, 255):\n",
    "                img.putpixel((x, y), (255, 255, 255))\n",
    "    #uloženie obrázka\n",
    "    img.save(image_path)\n",
    "\n",
    "#funkcia pre aplikovanie na celý priečinok\n",
    "def process_images_in_folder(folder_path):\n",
    "    for filename in os.listdir(folder_path):\n",
    "        if filename.endswith(\".png\"):\n",
    "            image_path = os.path.join(folder_path, filename)\n",
    "\n",
    "            replace_black_pixels_with_white(image_path)\n",
    "\n",
    "folder_path = \"GOLD_jicamarca_combined\"\n",
    "process_images_in_folder(folder_path)"
   ]
  },
  {
   "cell_type": "markdown",
   "id": "34076e2c-2197-4979-8209-4a5750432158",
   "metadata": {},
   "source": [
    "Obrázky po spojení sme ešte raz orezali do kruhového tvaru"
   ]
  },
  {
   "cell_type": "code",
   "execution_count": 15,
   "id": "05d045c8-4b76-4da2-91e7-2feb12e23b14",
   "metadata": {},
   "outputs": [],
   "source": [
    "#funkcia pre vytvorenie kruhového výrezu\n",
    "def crop_to_circle(image):\n",
    "    #veľkosť obrázka\n",
    "    width, height = image.size\n",
    "    radius = min(width, height) // 2\n",
    "    #vytvorenie kruhovej masky\n",
    "    circle_mask = Image.new('L', (width, height), 0)\n",
    "    draw = ImageDraw.Draw(circle_mask)\n",
    "    draw.ellipse((0, 0, width, height), fill=255)\n",
    "    #aplikovanie masky\n",
    "    result = Image.new('RGBA', (width, height))\n",
    "    result.paste(image, (0, 0), mask=circle_mask)\n",
    "    return result\n",
    "\n",
    "#funkcia pre aplikovanie na celý priečinok\n",
    "def process_images(input_folder):\n",
    "    for filename in os.listdir(input_folder):\n",
    "        if filename.endswith('.png'):\n",
    "            input_path = os.path.join(input_folder, filename)\n",
    "\n",
    "            with Image.open(input_path) as img:\n",
    "                cropped_img = crop_to_circle(img)\n",
    "                cropped_img.save(input_path)\n",
    "\n",
    "input_folder = 'GOLD_jicamarca_combined'\n",
    "process_images(input_folder)"
   ]
  },
  {
   "cell_type": "code",
   "execution_count": null,
   "id": "3fcd2e6a-2a1d-49d4-a963-c0822e287fc3",
   "metadata": {},
   "outputs": [],
   "source": []
  }
 ],
 "metadata": {
  "kernelspec": {
   "display_name": "Python 3 (ipykernel)",
   "language": "python",
   "name": "python3"
  },
  "language_info": {
   "codemirror_mode": {
    "name": "ipython",
    "version": 3
   },
   "file_extension": ".py",
   "mimetype": "text/x-python",
   "name": "python",
   "nbconvert_exporter": "python",
   "pygments_lexer": "ipython3",
   "version": "3.10.6"
  }
 },
 "nbformat": 4,
 "nbformat_minor": 5
}
