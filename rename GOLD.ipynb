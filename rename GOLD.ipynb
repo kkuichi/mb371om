{
 "cells": [
  {
   "cell_type": "markdown",
   "id": "b8f73d28-fa1d-4761-ab2c-a4cd6255feb0",
   "metadata": {},
   "source": [
    "# Import potrebných knižníc"
   ]
  },
  {
   "cell_type": "code",
   "execution_count": 1,
   "id": "dee7408e-865d-496d-bfdf-5720b507b9cc",
   "metadata": {},
   "outputs": [],
   "source": [
    "import os"
   ]
  },
  {
   "cell_type": "markdown",
   "id": "b16f890e-a389-4b47-ac07-cd83724e6dc1",
   "metadata": {},
   "source": [
    "# Premenovanie súborov dát GOLD"
   ]
  },
  {
   "cell_type": "markdown",
   "id": "eaccab2c-552c-4533-87de-a43b70c6ba6e",
   "metadata": {},
   "source": [
    "Pre zjednotenie sme museli premenovať aj dáta GOLD aby mali rovnaké pomenovania ako BU\n",
    "\n",
    "Prvým bodom bolo vymeniť - za _ kvôli jednoduchšej práci v neskorších kódoch\n",
    "\n",
    "Druhým bodom bolo pridať názov stanice keďže sme vytvorili kruhové výrezy"
   ]
  },
  {
   "cell_type": "code",
   "execution_count": null,
   "id": "c01f6e50-4d5f-4540-b7cc-524ecd5c14bc",
   "metadata": {},
   "outputs": [],
   "source": [
    "#funkcia pre nahradenie - za _\n",
    "def replace_dash_with_underscore(folder_path):\n",
    "    files = os.listdir(folder_path)\n",
    "    #pre každý obrázok\n",
    "    for file in files:\n",
    "        if file.endswith(\".png\"):\n",
    "            new_file_name = file.replace(\"-\", \"_\")\n",
    "            old_path = os.path.join(folder_path, file)\n",
    "            new_path = os.path.join(folder_path, new_file_name)\n",
    "            os.rename(old_path, new_path)\n",
    "            print(f\"Premenované {file} na {new_file_name}\")\n",
    "\n",
    "#definovanie súboru a aplikovanie funkcie\n",
    "folder_path = \"GOLD_jicamarca\"\n",
    "replace_dash_with_underscore(folder_path)"
   ]
  },
  {
   "cell_type": "code",
   "execution_count": null,
   "id": "9ae82448-70b7-4ebc-b966-9e527a61b013",
   "metadata": {},
   "outputs": [],
   "source": [
    "#funkcia pre pridanie stanice\n",
    "def append_string_to_filename(directory, file_extension, string_to_append):\n",
    "    #pre každý súbor\n",
    "    for filename in os.listdir(directory):\n",
    "        #poistka ak by sa v priečinku vyskytli aj iné súbory\n",
    "        if filename.endswith(file_extension):\n",
    "            original_path = os.path.join(directory, filename)\n",
    "            \n",
    "            base_name, ext = os.path.splitext(filename)\n",
    "            #pridaj za názov _ a následne stanicu\n",
    "            new_name = f\"{base_name}_{string_to_append}{ext}\"\n",
    "            \n",
    "            new_path = os.path.join(directory, new_name)\n",
    "            \n",
    "            os.rename(original_path, new_path)\n",
    "            print(f\"Premenované: {original_path} na {new_path}\")\n",
    "\n",
    "#definovanie súborou a názvu stanice \n",
    "directory_path = \"GOLD_jicamarca\"\n",
    "file_extension = \".png\"\n",
    "string_to_append = \"jicamarca\"\n",
    "\n",
    "#aplikovanie funkcie\n",
    "append_string_to_filename(directory_path, file_extension, string_to_append)"
   ]
  },
  {
   "cell_type": "code",
   "execution_count": null,
   "id": "d7aa96c0-d232-4ea8-9860-6d08bfb4eca0",
   "metadata": {},
   "outputs": [],
   "source": []
  }
 ],
 "metadata": {
  "kernelspec": {
   "display_name": "Python 3 (ipykernel)",
   "language": "python",
   "name": "python3"
  },
  "language_info": {
   "codemirror_mode": {
    "name": "ipython",
    "version": 3
   },
   "file_extension": ".py",
   "mimetype": "text/x-python",
   "name": "python",
   "nbconvert_exporter": "python",
   "pygments_lexer": "ipython3",
   "version": "3.10.6"
  }
 },
 "nbformat": 4,
 "nbformat_minor": 5
}
