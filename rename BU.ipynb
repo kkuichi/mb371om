{
 "cells": [
  {
   "cell_type": "markdown",
   "id": "f3ec596b-fddf-47df-9e62-1318bc190bc2",
   "metadata": {},
   "source": [
    "# Import potrebných knižníc"
   ]
  },
  {
   "cell_type": "code",
   "execution_count": 1,
   "id": "f07c065f-5e06-4d77-ae51-887a7c85dcde",
   "metadata": {},
   "outputs": [],
   "source": [
    "import os\n",
    "from datetime import datetime, timedelta"
   ]
  },
  {
   "cell_type": "markdown",
   "id": "aecacd3a-6dba-4b28-9d37-4f3430fc8e92",
   "metadata": {},
   "source": [
    "# Premenovanie BU súborov"
   ]
  },
  {
   "cell_type": "markdown",
   "id": "a0bb2ac6-92a7-4b11-8c27-653b376b28b2",
   "metadata": {},
   "source": [
    "Pôvodné názvy súborov BU sme prevádzali do viac zrozumiteľnej podoby \n",
    "\n",
    "Taktiež bolo potrebné zjednotiť názvy s dátami GOLD\n",
    "\n",
    "Nová štruktúra názvu dát teda je **rok_mesiac_den_hodina_minúta_sekunda_stanica.png**"
   ]
  },
  {
   "cell_type": "code",
   "execution_count": 2,
   "id": "27d63312-c71a-4d96-a322-b01215398bc7",
   "metadata": {},
   "outputs": [],
   "source": [
    "#definovanie priečinka\n",
    "folder_path = '2021_small'\n",
    "\n",
    "#vytorenie zoznamu všetkých súborov\n",
    "files = os.listdir(folder_path)\n",
    "\n",
    "#iterácia pre každá obrázok\n",
    "for filename in files:\n",
    "    #poistka ak by boli v pričinku aj iné súbory ako .png\n",
    "    if filename.endswith(\".png\"):\n",
    "        #získanie jednotlivých informácií z názvu\n",
    "        hour = filename[1:3]\n",
    "        minute = filename[3:5]\n",
    "        second = filename[5:7]\n",
    "        underscore_index = filename.rfind('_')\n",
    "        day_of_year = int(filename[underscore_index - 3:underscore_index])\n",
    "        \n",
    "        #získanie dátumu keďže v originálnom názve je číslo dňa z roku\n",
    "        base_date = datetime(2021, 1, 1)\n",
    "        date = base_date + timedelta(days=day_of_year - 1)\n",
    "        #nový názov súborov\n",
    "        new_filename = date.strftime('%Y_%m_%d_{0}_{1}_{2}_riogrande.png'.format(hour, minute, second))\n",
    "        \n",
    "        #premenovanie súborov\n",
    "        old_file_path = os.path.join(folder_path, filename)\n",
    "        new_file_path = os.path.join(folder_path, new_filename)\n",
    "        os.rename(old_file_path, new_file_path)"
   ]
  }
 ],
 "metadata": {
  "kernelspec": {
   "display_name": "Python 3 (ipykernel)",
   "language": "python",
   "name": "python3"
  },
  "language_info": {
   "codemirror_mode": {
    "name": "ipython",
    "version": 3
   },
   "file_extension": ".py",
   "mimetype": "text/x-python",
   "name": "python",
   "nbconvert_exporter": "python",
   "pygments_lexer": "ipython3",
   "version": "3.10.6"
  }
 },
 "nbformat": 4,
 "nbformat_minor": 5
}
