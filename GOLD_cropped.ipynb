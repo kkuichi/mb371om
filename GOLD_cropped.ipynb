{
 "cells": [
  {
   "cell_type": "markdown",
   "id": "210ca48b-3bb6-45ca-9482-dee92042c255",
   "metadata": {
    "tags": []
   },
   "source": [
    "# Import potrebných knižníc"
   ]
  },
  {
   "cell_type": "code",
   "execution_count": 8,
   "id": "bab82e79-106b-40b1-8ca0-77a7e874d8fe",
   "metadata": {},
   "outputs": [],
   "source": [
    "from PIL import Image, ImageDraw\n",
    "import os"
   ]
  },
  {
   "cell_type": "markdown",
   "id": "04090f43-3e3e-4009-9f5d-5eee31567a8f",
   "metadata": {
    "tags": []
   },
   "source": [
    "# Výrez oblastí nad stanicami BU z GOLD dát"
   ]
  },
  {
   "cell_type": "markdown",
   "id": "1556361f-99be-4000-a768-26e469ef45f9",
   "metadata": {},
   "source": [
    "Gold dáta máme vo formáte snímok celej Zeme a teda potrebujeme získať menšie časti nad stanicami\n",
    "\n",
    "Vytvárame kruhuvý verez nad stanicami ktoré snímajú BU dáta"
   ]
  },
  {
   "cell_type": "code",
   "execution_count": 9,
   "id": "fd8793dc-cbc6-4400-a9cf-3de09fdac08d",
   "metadata": {},
   "outputs": [],
   "source": [
    "#vytvorenie potrebných priečinkov\n",
    "input_folder = \"GOLD\"\n",
    "output_folder = \"GOLD_jicamarca\"\n",
    "\n",
    "if not os.path.exists(output_folder):\n",
    "    os.mkdir(output_folder)\n",
    "else:\n",
    "    for filename in os.listdir(output_folder):\n",
    "        file_path = os.path.join(output_folder, filename)\n",
    "        if os.path.isfile(file_path):\n",
    "            os.unlink(file_path)"
   ]
  },
  {
   "cell_type": "code",
   "execution_count": 10,
   "id": "f415bc71-f66e-465c-a0b9-6618fc3f1071",
   "metadata": {},
   "outputs": [],
   "source": [
    "#veľkosť výrezu\n",
    "smaller_radius = 25\n",
    "\n",
    "#vytvorenie zoznamu obrázkov\n",
    "image_files = []\n",
    "for root, dirs, files in os.walk(input_folder):\n",
    "    for file in files:\n",
    "        if file.endswith(\".png\"):\n",
    "            image_files.append(os.path.join(root, file))\n",
    "\n",
    "#pre každý snímok\n",
    "for input_image_path in image_files:\n",
    "    input_image = Image.open(input_image_path)\n",
    "    #vytvorenie kruhovej masky\n",
    "    mask = Image.new(\"L\", input_image.size, 0)\n",
    "    draw = ImageDraw.Draw(mask)\n",
    "    #veľkosť obrázka\n",
    "    width, height = input_image.size\n",
    "    #stred výrezu pre jednotlivé stanice\n",
    "    #center = (width // 2 - 110, height // 2 - 60) #arecibo\n",
    "    #center = (width // 2 - 80, height // 2 + 150) #rio_grande\n",
    "    #center = (width // 2 - 70, height // 2 + 115) #mercedes\n",
    "    #center = (width // 2 - 127, height // 2 - 20) #colombia\n",
    "    #center = (width // 2 - 95, height // 2 + 108) #el_leoncito\n",
    "    center = (width // 2 - 132, height // 2 + 40) #jicamarca\n",
    "    #vytvorenie kruhovej masky okolo výrezu\n",
    "    draw.ellipse((center[0] - smaller_radius, center[1] - smaller_radius, center[0] + smaller_radius, center[1] + smaller_radius), fill=255)\n",
    "    \n",
    "    output_image = Image.new(\"RGBA\", input_image.size)\n",
    "    output_image.paste(input_image, mask=mask)\n",
    "    #vytvorenie výrezu\n",
    "    left = center[0] - smaller_radius\n",
    "    top = center[1] - smaller_radius\n",
    "    right = center[0] + smaller_radius\n",
    "    bottom = center[1] + smaller_radius\n",
    "    cropped_image = output_image.crop((left, top, right, bottom))\n",
    "    #uloženie nového snímku\n",
    "    output_filename = os.path.join(output_folder, os.path.basename(input_image_path))\n",
    "    cropped_image.save(output_filename)"
   ]
  },
  {
   "cell_type": "code",
   "execution_count": null,
   "id": "e74c7e53-01b1-474d-863e-dc41b61e4a27",
   "metadata": {},
   "outputs": [],
   "source": []
  }
 ],
 "metadata": {
  "kernelspec": {
   "display_name": "Python 3 (ipykernel)",
   "language": "python",
   "name": "python3"
  },
  "language_info": {
   "codemirror_mode": {
    "name": "ipython",
    "version": 3
   },
   "file_extension": ".py",
   "mimetype": "text/x-python",
   "name": "python",
   "nbconvert_exporter": "python",
   "pygments_lexer": "ipython3",
   "version": "3.10.6"
  }
 },
 "nbformat": 4,
 "nbformat_minor": 5
}
