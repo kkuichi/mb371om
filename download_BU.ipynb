{
 "cells": [
  {
   "cell_type": "markdown",
   "id": "ca9b5cbc-742b-41ad-93bb-4e72db6eba87",
   "metadata": {},
   "source": [
    "# Import potrebných knižníc"
   ]
  },
  {
   "cell_type": "code",
   "execution_count": 19,
   "id": "d12ffcc4-f9f4-4845-95d6-1ad37f516b58",
   "metadata": {},
   "outputs": [],
   "source": [
    "import re\n",
    "import requests\n",
    "from bs4 import BeautifulSoup\n",
    "import os"
   ]
  },
  {
   "cell_type": "markdown",
   "id": "b9b6f4a0-334d-4d8a-b907-e6169403458a",
   "metadata": {},
   "source": [
    "# Stiahnutie snímkov z archívu"
   ]
  },
  {
   "cell_type": "markdown",
   "id": "3ef8d6c4-f7a9-4149-9302-a861f88b42a1",
   "metadata": {},
   "source": [
    "Sťahovanie z archívu je vytvorené pomocou web scrapingu kde po poskladaní URL odkazujúcej na deň z ktorého chceme stiahnuť snímky nočnej oblohy.\n",
    "\n",
    "Zo stránky sú stiahnuté všetky súbory s koncovkou .gif (snímky sú len vo formáte .gif) \n",
    "\n",
    "Snímky sú následne uložené podľa roku, mesiaca a dňa."
   ]
  },
  {
   "cell_type": "code",
   "execution_count": 20,
   "id": "b89cb531-35e7-4aec-9f7c-74383a509b1f",
   "metadata": {},
   "outputs": [],
   "source": [
    "#úvodné nastvenia premenných teda stanice, dní, mesiaca a filtra\n",
    "location = \"colombia\"\n",
    "start_day = 7\n",
    "end_day = 30\n",
    "month = \"Oct\"\n",
    "year = \"2021\"\n",
    "filt = \"6300\""
   ]
  },
  {
   "cell_type": "code",
   "execution_count": null,
   "id": "55fed81f-e800-48b8-b869-2611c9109315",
   "metadata": {},
   "outputs": [],
   "source": [
    "#iterácia od úvodného po konečný deň\n",
    "while start_day <= end_day:\n",
    "    #http://sirius.bu.edu/data/?location=arecibo&year=2020&filt=6300&month=Jan&day=1\n",
    "    #link vedúci ku dňu s dátami\n",
    "    site = 'http://sirius.bu.edu/data/?location=' + location + '&year=' + year + '&filt=' + filt + '&month=' + month + '&day=' + str(start_day)\n",
    "    response = requests.get(site)\n",
    "    #pomodou knižnice BeautifulSoup parsujeme stránku\n",
    "    soup = BeautifulSoup(response.text, 'html.parser')\n",
    "    #nájdeme všetky položky s tagom img (obrázky)\n",
    "    image_tags = soup.find_all('img')\n",
    "    #zoznam všekých url obrázkov\n",
    "    urls = [img['src'] for img in image_tags]\n",
    "    #príprava priečinkov\n",
    "    if not os.path.exists(location + year + \"/\" + month + \"/\" + str(start_day)):\n",
    "        os.makedirs(location + year + \"/\" + month + \"/\" + str(start_day))\n",
    "    #iterácia cez všetky url\n",
    "    for url in urls:\n",
    "        #získanie každého súboru vo formáte gif z url obrázkov\n",
    "        filename = re.search(r'/([\\w_-]+[.](gif))$', url)\n",
    "        if not filename:\n",
    "                continue\n",
    "        #ukladanie jednotlivých obrázkov\n",
    "        with open(location + year + \"/\" + month + \"/\" + str(start_day) + \"/\" + filename.group(1), 'wb') as f:\n",
    "            if 'http' not in url:\n",
    "                url = '{}{}'.format(site, url)\n",
    "                url = url.split(\"data\")\n",
    "                url = url[0] + \"data/data\" + url[2]\n",
    "            response = requests.get(url)\n",
    "            f.write(response.content)\n",
    "    start_day = start_day + 1"
   ]
  }
 ],
 "metadata": {
  "kernelspec": {
   "display_name": "Python 3 (ipykernel)",
   "language": "python",
   "name": "python3"
  },
  "language_info": {
   "codemirror_mode": {
    "name": "ipython",
    "version": 3
   },
   "file_extension": ".py",
   "mimetype": "text/x-python",
   "name": "python",
   "nbconvert_exporter": "python",
   "pygments_lexer": "ipython3",
   "version": "3.10.6"
  }
 },
 "nbformat": 4,
 "nbformat_minor": 5
}
