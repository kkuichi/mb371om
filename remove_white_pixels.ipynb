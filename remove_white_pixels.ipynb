{
 "cells": [
  {
   "cell_type": "markdown",
   "id": "8b15aa2a-9d41-44e6-bc5f-76d59c83adf9",
   "metadata": {},
   "source": [
    "# Import potrebných knižníc"
   ]
  },
  {
   "cell_type": "code",
   "execution_count": 2,
   "id": "27b3bde8-36ed-42f8-873e-caadc26d8565",
   "metadata": {},
   "outputs": [],
   "source": [
    "from PIL import Image\n",
    "import os\n",
    "import shutil"
   ]
  },
  {
   "cell_type": "markdown",
   "id": "2f16ceab-085c-4811-84f4-4f2249b11d4b",
   "metadata": {},
   "source": [
    "# Odstránenie obrázkov bez hodnôt Airglow"
   ]
  },
  {
   "cell_type": "markdown",
   "id": "36337f8d-eee8-4d77-a7fa-8199a443fe7e",
   "metadata": {},
   "source": [
    "Snímky GOLD kedy nemáme hodnoty Airglow bolo potrebné pred vstupom do modelu odstrániť\n",
    "\n",
    "Získali sme priemernú farbu týchto obrázkov a ak sa takýto obrázok našiel vynechali sme ho"
   ]
  },
  {
   "cell_type": "code",
   "execution_count": 5,
   "id": "61daed53-8184-4d4b-b725-06b63a626375",
   "metadata": {},
   "outputs": [],
   "source": [
    "#funkcia na zistenie priemernej hodnoty pixelov\n",
    "def get_average_pixel_color(image_path):\n",
    "    img = Image.open(image_path)\n",
    "    img = img.convert(\"RGB\")\n",
    "    #zoznam pixelov\n",
    "    pixels = list(img.getdata())\n",
    "    total_r = total_g = total_b = 0\n",
    "    #pre každý pixel\n",
    "    for pixel in pixels:\n",
    "        total_r += pixel[0]\n",
    "        total_g += pixel[1]\n",
    "        total_b += pixel[2]\n",
    "    #funkcia vráti priemerné hodnoty pixelov pre každú RGB farbu\n",
    "    num_pixels = img.width * img.height\n",
    "    average_r = total_r / num_pixels\n",
    "    average_g = total_g / num_pixels\n",
    "    average_b = total_b / num_pixels\n",
    "    return (average_r, average_g, average_b)\n",
    "\n",
    "#funkcia pre kopírovanie snímok ktoré majú údaje Airglow\n",
    "def copy_images_with_average_color(source_folder, destination_folder, target_color):\n",
    "    for filename in os.listdir(source_folder):\n",
    "        if filename.endswith(\".png\"):\n",
    "            image_path = os.path.join(source_folder, filename)\n",
    "            average_color = get_average_pixel_color(image_path)\n",
    "            #v prípade že sa priemerná farba nerovná zadanej (biela)\n",
    "            if average_color != target_color:\n",
    "                shutil.copy(image_path, destination_folder)\n",
    "\n",
    "#definovanie priečinkov a farby ktorú chcelme vynechať (biela)\n",
    "source_folder = \"GOLD_jicamarca/\"\n",
    "destination_folder = \"GOLD_jicamarca_no_white/\"\n",
    "target_color = (204.714, 204.714, 204.714)\n",
    "copy_images_with_average_color(source_folder, destination_folder, target_color)"
   ]
  },
  {
   "cell_type": "code",
   "execution_count": null,
   "id": "f22038c9-64ec-41a2-8f81-d9828c39d7b7",
   "metadata": {},
   "outputs": [],
   "source": []
  }
 ],
 "metadata": {
  "kernelspec": {
   "display_name": "Python 3 (ipykernel)",
   "language": "python",
   "name": "python3"
  },
  "language_info": {
   "codemirror_mode": {
    "name": "ipython",
    "version": 3
   },
   "file_extension": ".py",
   "mimetype": "text/x-python",
   "name": "python",
   "nbconvert_exporter": "python",
   "pygments_lexer": "ipython3",
   "version": "3.10.6"
  }
 },
 "nbformat": 4,
 "nbformat_minor": 5
}
