{
 "cells": [
  {
   "cell_type": "markdown",
   "id": "32cd659b-cac0-4c62-b70e-7bd0b8323aaa",
   "metadata": {},
   "source": [
    "# Import potrebných knižníc"
   ]
  },
  {
   "cell_type": "code",
   "execution_count": null,
   "id": "a3e6b72b-f7c0-4763-883e-0447be39f0be",
   "metadata": {},
   "outputs": [],
   "source": [
    "!pip install opencv-python"
   ]
  },
  {
   "cell_type": "code",
   "execution_count": null,
   "id": "33d3e6b0-4f87-44bd-ad2c-6a136be7c8a2",
   "metadata": {},
   "outputs": [],
   "source": [
    "import cv2\n",
    "import numpy as np\n",
    "import os\n",
    "import glob"
   ]
  },
  {
   "cell_type": "markdown",
   "id": "3a13aaed-ade9-4188-b91d-8ffdafd24b2f",
   "metadata": {},
   "source": [
    "# Odstránenie hviezd z BU"
   ]
  },
  {
   "cell_type": "markdown",
   "id": "9a4dba8e-c703-4846-a23f-5ac3897ce084",
   "metadata": {},
   "source": [
    "Hviezdy na nočných snímkach by mohli ovplivniť predikciu výskytu Airglow a teda sme sa rozhodli zmierniť ich dopad\n",
    "\n",
    "Na to sme využili Gausovské rozostrenie ktoré ich rozmaže "
   ]
  },
  {
   "cell_type": "code",
   "execution_count": null,
   "id": "8852bc37-de69-4256-babd-88c8c5890849",
   "metadata": {},
   "outputs": [],
   "source": [
    "#vytvorenie potrebných priečinkov\n",
    "source_dir = 'BU_rio_grande'\n",
    "destination_dir = 'BU_rio_grande_stars'\n",
    "if not os.path.exists(destination_dir):\n",
    "    os.makedirs(destination_dir)\n",
    "\n",
    "image_files = glob.glob(os.path.join(source_dir, '*.png'))"
   ]
  },
  {
   "cell_type": "code",
   "execution_count": 58,
   "id": "de184f4d-fba5-43b9-a99e-a468cce1ff57",
   "metadata": {},
   "outputs": [],
   "source": [
    "#iterácia pre každý obrázok\n",
    "for image_path in image_files:\n",
    "    image = cv2.imread(image_path, cv2.IMREAD_UNCHANGED)\n",
    "    has_alpha = image.shape[2] == 4\n",
    "    #získanie rozmerov obrázku\n",
    "    rows, cols = image.shape[:2]\n",
    "    #vytvorenie masky\n",
    "    mask = np.zeros((rows, cols), dtype=np.uint8)\n",
    "    #stred obrázku a rádius\n",
    "    center = (cols // 2, rows // 2)\n",
    "    radius = min(center[0], center[1], cols - center[0], rows - center[1])\n",
    "    cv2.circle(mask, center, radius, 255, -1)\n",
    "\n",
    "    if has_alpha:\n",
    "        color_channels = image[..., :3] # Oddelenie farebných kanálov\n",
    "        alpha_channel = image[..., 3] # Oddelenie alfa kanála\n",
    "    else:\n",
    "        color_channels = image\n",
    "        alpha_channel = None\n",
    "    #aplikovanie Gausovského rozmazania\n",
    "    blurred_color_channels = cv2.GaussianBlur(color_channels, (7, 7), 0)\n",
    "    blurred_image = np.where(mask[:, :, None] == 255, blurred_color_channels, color_channels)\n",
    "\n",
    "    if has_alpha:\n",
    "        result_image = cv2.merge((*cv2.split(blurred_image), alpha_channel))\n",
    "    else:\n",
    "        result_image = blurred_image\n",
    "\n",
    "    #uloženie do priečinku s odstránenými zviezdami\n",
    "    filename = os.path.basename(image_path)\n",
    "    save_path = os.path.join(destination_dir, filename)\n",
    "    cv2.imwrite(save_path, result_image)"
   ]
  }
 ],
 "metadata": {
  "kernelspec": {
   "display_name": "Python 3 (ipykernel)",
   "language": "python",
   "name": "python3"
  },
  "language_info": {
   "codemirror_mode": {
    "name": "ipython",
    "version": 3
   },
   "file_extension": ".py",
   "mimetype": "text/x-python",
   "name": "python",
   "nbconvert_exporter": "python",
   "pygments_lexer": "ipython3",
   "version": "3.10.6"
  }
 },
 "nbformat": 4,
 "nbformat_minor": 5
}
