{
 "cells": [
  {
   "cell_type": "code",
   "execution_count": null,
   "id": "4eda5913-d47e-45fb-9623-d6bc295e59eb",
   "metadata": {},
   "outputs": [],
   "source": [
    "!python train.py --dataset airglow"
   ]
  },
  {
   "cell_type": "code",
   "execution_count": null,
   "id": "8fbdd403-ef38-4817-a9fa-42238cc234ae",
   "metadata": {},
   "outputs": [],
   "source": [
    "!python test.py --dataset airglow"
   ]
  }
 ],
 "metadata": {
  "kernelspec": {
   "display_name": "Python 3 (ipykernel)",
   "language": "python",
   "name": "python3"
  },
  "language_info": {
   "codemirror_mode": {
    "name": "ipython",
    "version": 3
   },
   "file_extension": ".py",
   "mimetype": "text/x-python",
   "name": "python",
   "nbconvert_exporter": "python",
   "pygments_lexer": "ipython3",
   "version": "3.10.6"
  }
 },
 "nbformat": 4,
 "nbformat_minor": 5
}
